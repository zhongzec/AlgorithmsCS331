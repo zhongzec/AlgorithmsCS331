{
 "cells": [
  {
   "cell_type": "markdown",
   "metadata": {},
   "source": [
    "# N-grams\n",
    "\n",
    "## Overview\n",
    "\n",
    "An *n-gram* -- in the context of parsing natural languages such as English -- is a sequence of *n* consecutive *tokens* (which we might define as characters separated by whitespace) from some passage of text. Based on the following passage:\n",
    "\n",
    "> I really really like cake.\n",
    "\n",
    "We have the following 2-grams:\n",
    "\n",
    "    [('I', 'really'), ('really', 'really'), ('really', 'like'), ('like', 'cake.')]\n",
    "\n",
    "And the following 3-grams:\n",
    "\n",
    "    [('I', 'really', 'really'),\n",
    "     ('really', 'really', 'like'),\n",
    "     ('really', 'like', 'cake.')]\n",
    "\n",
    "(I omit a 1-gram listing because it would merely be a list of all tokens in the original text.)\n",
    "\n",
    "Among other things, n-grams are useful for describing the vocabulary of and statistical correlation between tokens in a sample body of text (e.g., as taken from a book). We can use an n-gram model to determine the likelihood of finding\n",
    "a particular sequence of words after another. This information, in turn, can be used to generate passages of text that statistically mimic the sample.\n",
    "\n",
    "We can convert the above 3-gram list into the following lookup structure (i.e., a dictionary mapping strings to lists of 2-tuples), where the first token of each n-gram maps to all sequences that follow it in the text:\n",
    "\n",
    "    {'I': [('really', 'really')],\n",
    "     'really': [('really', 'like'), ('like', 'cake.')]}\n",
    "\n",
    "We can now generate passages of text using the following method:\n",
    "\n",
    "1. Select a random key and use it as the start token of the passage. It will also serve as the current token for the next step.\n",
    "2. Select a random tuple from the list associated with the current token and append the sequence to the passage. The last token of the selected sequence will be the new current token.\n",
    "3. If the current token is a key in the dictionary then simply repeat step 2, otherwise select another random key from the dictionary as the current token and append it to the passage before repeating step 2.\n",
    "\n",
    "E.g., we might start by selecting `'I'` in step (1), which gives us `('really', 'really')` as our only choice in (2). The second `'really'` in that tuple is the new current token (which is a valid key), which takes us back to (2) and gives us a choice between two tuples. If we choose `('like', 'cake.')`, then we have `'cake.'` as our new current token --- it is not a key in the map, however, so we'd have to choose a new random key if we wanted to generate a longer passage. Either way, the passage we've generated thus far is `'I really really like cake.'` (which also happens to be the original passage).\n",
    "\n",
    "Here's a lengthier passage that could be generated from the 3-gram dictionary above -- note that for clarity I've added `*`'s every time a new random key is selected (i.e., when the previous token isn't a key in the dictionary):\n",
    "\n",
    "> \\* really like cake. \\* I really really really like \\* really like cake. \\* I really really really like \\* really\n",
    "\n",
    "This gets more interesting when we build n-gram dictionaries from lengthier bodies of text. For instance, the following text was generated (with a little programmed embellishment for prettier capitalization and punctuation) from a 3-gram dictionary extracted from Romeo's famous balcony monologue:\n",
    "\n",
    "> Lamp her eyes were there they in their spheres till they in her eyes in all the fairest stars in all the heaven having some business do wear it is my love! O it is envious her cheek would through the heaven having some business do entreat her eyes were there they in their spheres till they in her eyes to.\n",
    "\n",
    "For reference, here is the dictionary entry for the token `'her'` used to generate the above:\n",
    "\n",
    "    'her': [('maid', 'art'),\n",
    "            ('maid', 'since'),\n",
    "            ('vestal', 'livery'),\n",
    "            ('eyes', 'to'),\n",
    "            ('eyes', 'were'),\n",
    "            ('head?', 'The'),\n",
    "            ('cheek', 'would'),\n",
    "            ('eyes', 'in'),\n",
    "            ('cheek', 'upon'),\n",
    "            ('hand!', 'O')],\n",
    "\n",
    "If you haven't already guessed it, your assignment is to implement a function that constructs an n-gram dictionary from a list of strings (tokens), and another that returns a passage of text generated from a given n-gram dictionary."
   ]
  },
  {
   "cell_type": "markdown",
   "metadata": {},
   "source": [
    "## Implementation Details\n",
    "\n",
    "Before you start working on the aforementioned functions, it's important to consider how we'll be parsing passages for tokens.\n",
    "\n",
    "Here's the body of Romeo's balcony soliloquy:"
   ]
  },
  {
   "cell_type": "code",
   "execution_count": 1,
   "metadata": {
    "collapsed": true,
    "deletable": false,
    "nbgrader": {
     "checksum": "5ab44e2741453aae4836a38b70f3b8a9",
     "grade": false,
     "grade_id": "romeo",
     "locked": true,
     "solution": false
    }
   },
   "outputs": [],
   "source": [
    "ROMEO_SOLILOQUY = \"\"\"\n",
    "        But, soft! what light through yonder window breaks?\n",
    "        It is the east, and Juliet is the sun.\n",
    "        Arise, fair sun, and kill the envious moon,\n",
    "        who is already sick and pale with grief, \n",
    "        That thou her maid art far more fair than she:\n",
    "        be not her maid, since she is envious;\n",
    "        her vestal livery is but sick and green\n",
    "        and none but fools do wear it; cast it off.\n",
    "        It is my lady, O, it is my love! \n",
    "        O, that she knew she were!\n",
    "        She speaks yet she says nothing: what of that?\n",
    "        Her eye discourses; I will answer it.\n",
    "        I am too bold, 'tis not to me she speaks:\n",
    "        two of the fairest stars in all the heaven, \n",
    "        having some business, do entreat her eyes\n",
    "        to twinkle in their spheres till they return.\n",
    "        What if her eyes were there, they in her head?\n",
    "        The brightness of her cheek would shame those stars,\n",
    "        as daylight doth a lamp; her eyes in heaven \n",
    "        would through the airy region stream so bright\n",
    "        that birds would sing and think it were not night.\n",
    "        See, how she leans her cheek upon her hand!\n",
    "        O, that I were a glove upon that hand,\n",
    "        that I might touch that cheek!\"\"\""
   ]
  },
  {
   "cell_type": "markdown",
   "metadata": {},
   "source": [
    "Using the string's built-in `split` method --- previously mentioned in class --- along with `lower`, we can derive from the passage a list of tokens."
   ]
  },
  {
   "cell_type": "code",
   "execution_count": 2,
   "metadata": {},
   "outputs": [
    {
     "data": {
      "text/plain": [
       "['but,', 'soft!', 'what', 'light', 'through', 'yonder', 'window', 'breaks?']"
      ]
     },
     "execution_count": 2,
     "metadata": {},
     "output_type": "execute_result"
    }
   ],
   "source": [
    "toks = [t.lower() for t in ROMEO_SOLILOQUY.split()]\n",
    "\n",
    "toks[:8]"
   ]
  },
  {
   "cell_type": "markdown",
   "metadata": {},
   "source": [
    "We could do more interesting things (such as separating out punctuation), but we'll keep our parser simple. For the sake of consistency, we'll rely on this fairly straighttforward approach to parsing. Onwards!\n",
    "\n",
    "### `compute_ngrams`\n",
    "\n",
    "Your first task is to write `compute_ngrams`, which will take a list of tokens, a value `n` indicating the n-gram length (e.g., 3 for 3-grams), and return an n-gram dictionary. The keys in the returned dictionary should all be strings, whose values will be lists of one or more tuples. Note that even in the case of `n`=2 (which would be the minimum value) the dictionary should map strings to lists of 1-tuples (i.e., instead of to lists of individual tokens)."
   ]
  },
  {
   "cell_type": "code",
   "execution_count": 3,
   "metadata": {
    "deletable": false,
    "nbgrader": {
     "checksum": "b201ae0def6dde726ab0df42e9015f98",
     "grade": false,
     "grade_id": "compute_ngrams",
     "locked": false,
     "solution": true
    }
   },
   "outputs": [],
   "source": [
    "def compute_ngrams(toks, n=2):\n",
    "    \"\"\"Returns an n-gram dictionary based on the provided list of tokens.\"\"\"\n",
    "    dic={}\n",
    "    key=[]\n",
    "    j=0\n",
    "    for i in toks[:len(toks)-n+1]:\n",
    "            key.append(i)\n",
    "    while j<=len(key)-1:\n",
    "        temp=[]\n",
    "        if dic.get(toks[j])!=None:\n",
    "            x=tuple((toks[j+1:j+n]))\n",
    "            dic[key[j]].append(x)\n",
    "        else:\n",
    "            x=tuple((toks[j+1:j+n]))\n",
    "            dic[key[j]]=[x]\n",
    "        j+=1\n",
    "    return dic"
   ]
  },
  {
   "cell_type": "markdown",
   "metadata": {},
   "source": [
    "And now for some simple tests:"
   ]
  },
  {
   "cell_type": "code",
   "execution_count": 4,
   "metadata": {
    "deletable": false,
    "nbgrader": {
     "checksum": "d1a0d0f386c7b75a3258afe5293664b6",
     "grade": true,
     "grade_id": "test_compute_ngrams",
     "locked": true,
     "points": 5,
     "solution": false
    }
   },
   "outputs": [],
   "source": [
    "from unittest import TestCase\n",
    "tc = TestCase()\n",
    "\n",
    "simple_toks = [t.lower() for t in 'I really really like cake.'.split()]\n",
    "\n",
    "compute_ngrams(simple_toks)\n",
    "tc.assertEqual(compute_ngrams(simple_toks), \n",
    "               {'i': [('really',)], 'like': [('cake.',)], 'really': [('really',), ('like',)]})\n",
    "tc.assertEqual(compute_ngrams(simple_toks, n=3), \n",
    "               {'i': [('really', 'really')],\n",
    "                'really': [('really', 'like'), ('like', 'cake.')]})\n",
    "\n",
    "romeo_toks = [t.lower() for t in ROMEO_SOLILOQUY.split()]\n",
    "\n",
    "dct = compute_ngrams(romeo_toks, n=4)\n",
    "tc.assertEqual(dct['but'], [('sick', 'and', 'green'), ('fools', 'do', 'wear')])\n",
    "tc.assertEqual(dct['it'], \n",
    "              [('is', 'the', 'east,'),\n",
    "               ('off.', 'it', 'is'),\n",
    "               ('is', 'my', 'lady,'),\n",
    "               ('is', 'my', 'love!'),\n",
    "               ('were', 'not', 'night.')])"
   ]
  },
  {
   "cell_type": "markdown",
   "metadata": {},
   "source": [
    "I've also placed the entire text of Peter Pan (courtesy of [Project Gutenberg][]) on the server, to be used to stress test your function just a bit. The following code reads the passage of the file (if you're not working on the course server this won't work for you):\n",
    "\n",
    "[Project Gutenberg]: http://gutenberg.org"
   ]
  },
  {
   "cell_type": "code",
   "execution_count": 5,
   "metadata": {
    "deletable": false,
    "nbgrader": {
     "checksum": "9bae27dd84e499f790416e046fc8a440",
     "grade": false,
     "grade_id": "peter_pan",
     "locked": true,
     "solution": false
    }
   },
   "outputs": [
    {
     "ename": "FileNotFoundError",
     "evalue": "[Errno 2] No such file or directory: '/srv/cs331/peterpan.txt'",
     "output_type": "error",
     "traceback": [
      "\u001b[0;31m---------------------------------------------------------------------------\u001b[0m",
      "\u001b[0;31mFileNotFoundError\u001b[0m                         Traceback (most recent call last)",
      "\u001b[0;32m<ipython-input-5-79fccb774944>\u001b[0m in \u001b[0;36m<module>\u001b[0;34m()\u001b[0m\n\u001b[1;32m      1\u001b[0m \u001b[0mPETER_PAN_FILENAME\u001b[0m \u001b[0;34m=\u001b[0m \u001b[0;34m'/srv/cs331/peterpan.txt'\u001b[0m\u001b[0;34m\u001b[0m\u001b[0m\n\u001b[1;32m      2\u001b[0m \u001b[0;34m\u001b[0m\u001b[0m\n\u001b[0;32m----> 3\u001b[0;31m \u001b[0;32mwith\u001b[0m \u001b[0mopen\u001b[0m\u001b[0;34m(\u001b[0m\u001b[0mPETER_PAN_FILENAME\u001b[0m\u001b[0;34m)\u001b[0m \u001b[0;32mas\u001b[0m \u001b[0minfile\u001b[0m\u001b[0;34m:\u001b[0m\u001b[0;34m\u001b[0m\u001b[0m\n\u001b[0m\u001b[1;32m      4\u001b[0m     \u001b[0mpp_text\u001b[0m \u001b[0;34m=\u001b[0m \u001b[0minfile\u001b[0m\u001b[0;34m.\u001b[0m\u001b[0mread\u001b[0m\u001b[0;34m(\u001b[0m\u001b[0;34m)\u001b[0m\u001b[0;34m\u001b[0m\u001b[0m\n\u001b[1;32m      5\u001b[0m \u001b[0;34m\u001b[0m\u001b[0m\n",
      "\u001b[0;31mFileNotFoundError\u001b[0m: [Errno 2] No such file or directory: '/srv/cs331/peterpan.txt'"
     ]
    }
   ],
   "source": [
    "PETER_PAN_FILENAME = '/srv/cs331/peterpan.txt'\n",
    "\n",
    "with open(PETER_PAN_FILENAME) as infile:\n",
    "    pp_text = infile.read()\n",
    "    \n",
    "print(pp_text[1361:1949])"
   ]
  },
  {
   "cell_type": "markdown",
   "metadata": {},
   "source": [
    "Time for some larger test cases!"
   ]
  },
  {
   "cell_type": "code",
   "execution_count": null,
   "metadata": {
    "deletable": false,
    "nbgrader": {
     "checksum": "337ce73600c508dda16d1e1dc54c81f2",
     "grade": true,
     "grade_id": "test_compute_ngrams_2",
     "locked": true,
     "points": 5,
     "solution": false
    }
   },
   "outputs": [],
   "source": [
    "tc = TestCase()\n",
    "\n",
    "pp_toks = [t.lower() for t in pp_text.split()]\n",
    "dct = compute_ngrams(pp_toks, n=3)\n",
    "tc.assertEqual(dct['crocodile'], \n",
    "               [('passes,', 'but'),\n",
    "                ('that', 'happened'),\n",
    "                ('would', 'have'),\n",
    "                ('was', 'in'),\n",
    "                ('passed', 'him,'),\n",
    "                ('is', 'about'),\n",
    "                ('climbing', 'it.'),\n",
    "                ('that', 'was'),\n",
    "                ('pass', 'by'),\n",
    "                ('and', 'let'),\n",
    "                ('was', 'among'),\n",
    "                ('was', 'waiting')])\n",
    "tc.assertEqual(len(dct['wendy']), 202)\n",
    "tc.assertEqual(len(dct['peter']), 243)"
   ]
  },
  {
   "cell_type": "markdown",
   "metadata": {},
   "source": [
    "### Random selection"
   ]
  },
  {
   "cell_type": "markdown",
   "metadata": {},
   "source": [
    "One more thing before you start work on generating passages from an n-gram dictionary: we need a way to choose a random item from a sequence.\n",
    "\n",
    "The [`random.choice` function](https://docs.python.org/3/library/random.html#random.choice) provides just this functionality. Consider (and feel free to play with) the following examples --- you should, at the very least, evaluate the cell a few separate times to see the results:"
   ]
  },
  {
   "cell_type": "code",
   "execution_count": null,
   "metadata": {},
   "outputs": [],
   "source": [
    "import random\n",
    "print(random.choice(['lions', 'tigers', 'bears']))\n",
    "print(random.choice(range(100)))\n",
    "print(random.choice([('really', 'like'), ('like', 'cake')]))"
   ]
  },
  {
   "cell_type": "markdown",
   "metadata": {},
   "source": [
    "Note that a separate tutorial on random number generators (and other [`random` module](https://docs.python.org/3/library/random.html) APIs) will be posted separately, but for now just understanding how to use `random.choice` should be sufficient for this assignment."
   ]
  },
  {
   "cell_type": "markdown",
   "metadata": {},
   "source": [
    "### `gen_passage`\n",
    "\n",
    "Finally, you're ready to implement `gen_passage`, which will take an n-gram dictionary and a length for the passage to generate (as a token count). \n",
    "\n",
    "As described earlier, it will work as follows:\n",
    "\n",
    "1. Select a random key from the dictionary and use it as the start token of the passage. It will also serve as the current token for the next step.\n",
    "2. Select a random tuple from the list associated with the current token and append the sequence to the passage. The last token of the selected sequence will be the new current token.\n",
    "3. If the current token is a key in the dictionary then simply repeat step 2, otherwise select another random key from the map as the current token and append it to the passage before repeating step 2.\n",
    "\n",
    "You will use `random.choice` whenever a random selection needs to be made. In order for your results to be reproduceable, be sure to sort the dictionary's keys (which, recall, are in no discernible order) before selecting a random one, like this (assuming `ngram_dict` is the dictionary):\n",
    "\n",
    "    random.choice(sorted(ngram_dict.keys()))"
   ]
  },
  {
   "cell_type": "code",
   "execution_count": null,
   "metadata": {
    "deletable": false,
    "nbgrader": {
     "checksum": "062939b6abe458e056b7ff6016c6f68d",
     "grade": true,
     "grade_id": "gen_passage",
     "locked": false,
     "points": 5,
     "solution": true
    }
   },
   "outputs": [],
   "source": [
    "def gen_passage(ngram_dict, length=100):\n",
    "    ls=[]\n",
    "    newran=''\n",
    "    output=tuple()\n",
    "    index=length\n",
    "    templ=[]\n",
    "    x=''\n",
    "    while index!=0:\n",
    "        if index==length:\n",
    "            x=random.choice(sorted(ngram_dict.keys()))\n",
    "            output+=(x,)\n",
    "        else:\n",
    "            if(ngram_dict.get(x)!=None):\n",
    "            output=tuple(output)\n",
    "            newran=random.choice(sorted(ngram_dict.keys()))\n",
    "            templ=ngram_dict.get(newran)\n",
    "            for i in templ:\n",
    "                output+=i\n",
    "        index -=1\n",
    "        \n",
    "    return (' '.join(output))\n",
    "            "
   ]
  },
  {
   "cell_type": "code",
   "execution_count": null,
   "metadata": {},
   "outputs": [],
   "source": [
    "def gen_passage(ngram_dict, length=100):\n",
    "        passage=''\n",
    "        token=''\n",
    "        save=[]\n",
    "        index=0\n",
    "        temp=''\n",
    "        choice=random.choice(sorted(ngram_dict.keys()))\n",
    "        save.append(choice)\n",
    "        while index<length-1:\n",
    "            if ngram_dict.get(choice)!=None:\n",
    "                token=choice\n",
    "                temp=random.choice(ngram_dict[choice])\n",
    "                token+=' '.join(temp)#save for passage\n",
    "                choice=temp\n",
    "            else:\n",
    "                token=ngram_dict[choice][len(ngram_dict[choice])]#get the last one of the tuple\n",
    "                token+=' '\n",
    "                choice=random.choice(sorted(ngram_dict.keys()))\n",
    "            save.append(token)\n",
    "            index+=1\n",
    "            print (save)\n",
    "        return (' '.join(i for i in save))\n",
    "            "
   ]
  },
  {
   "cell_type": "code",
   "execution_count": null,
   "metadata": {},
   "outputs": [],
   "source": [
    "def gen_passage(ngram_dict,length=100):\n",
    "    passage=[]\n",
    "    temp=[]\n",
    "    token=random.choice(sorted(ngram_dict.keys()))\n",
    "    temp.append(token)\n",
    "    new=''\n",
    "    index=0\n",
    "    while index<length-1:\n",
    "        keyword=ngram_dict[token]\n",
    "        \n",
    "        temp1=random.choice(keyword)\n",
    "        new=temp1[len(temp1)-1]\n",
    "        index+=len(temp1)\n",
    "        \n",
    "        temp1=' '.join(temp1)\n",
    "        temp.append(temp1)\n",
    "        \n",
    "        if ngram_dict.get(new)!=None:\n",
    "            token=new\n",
    "        else:\n",
    "            token=random.choice(sorted(ngram_dict.keys()))\n",
    "            temp.append(token)\n",
    "            index+=1\n",
    "        passage=' '.join(temp)\n",
    "    return passage"
   ]
  },
  {
   "cell_type": "code",
   "execution_count": null,
   "metadata": {
    "scrolled": true
   },
   "outputs": [],
   "source": [
    "simple_toks = [t.lower() for t in 'I really really like cake.'.split()]\n",
    "x=gen_passage(compute_ngrams(simple_toks), 10)\n",
    "print(x)"
   ]
  },
  {
   "cell_type": "markdown",
   "metadata": {},
   "source": [
    "For the following test cases to work, it is *critical* that you do not invoke `random.choice` more than is absolutely necessary, and only as prescribed in the steps described above!\n",
    "\n",
    "Note that in addition to the automated test cases, we'll also be manually grading your code above."
   ]
  },
  {
   "cell_type": "code",
   "execution_count": null,
   "metadata": {
    "deletable": false,
    "nbgrader": {
     "checksum": "8ecff6c91886a2ef64756693fb32c0fa",
     "grade": true,
     "grade_id": "gen_passage_test",
     "locked": true,
     "points": 5,
     "solution": false
    }
   },
   "outputs": [],
   "source": [
    "tc = TestCase()\n",
    "\n",
    "random.seed(1234)\n",
    "simple_toks = [t.lower() for t in 'I really really like cake.'.split()]\n",
    "tc.assertEqual(gen_passage(compute_ngrams(simple_toks), 10),\n",
    "               'like cake. i really really really really like cake. i')\n",
    "\n",
    "random.seed(1234)\n",
    "romeo_toks = [t.lower() for t in ROMEO_SOLILOQUY.split()]\n",
    "tc.assertEqual(gen_passage(compute_ngrams(romeo_toks), 10),\n",
    "               'too bold, \\'tis not night. see, how she leans her')"
   ]
  }
 ],
 "metadata": {
  "anaconda-cloud": {},
  "kernelspec": {
   "display_name": "Python 3",
   "language": "python",
   "name": "python3"
  },
  "language_info": {
   "codemirror_mode": {
    "name": "ipython",
    "version": 3
   },
   "file_extension": ".py",
   "mimetype": "text/x-python",
   "name": "python",
   "nbconvert_exporter": "python",
   "pygments_lexer": "ipython3",
   "version": "3.5.2"
  }
 },
 "nbformat": 4,
 "nbformat_minor": 1
}
