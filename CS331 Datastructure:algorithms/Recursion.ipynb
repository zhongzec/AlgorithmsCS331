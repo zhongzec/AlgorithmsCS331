{
 "cells": [
  {
   "cell_type": "markdown",
   "metadata": {},
   "source": [
    "# Recursion\n",
    "\n",
    "## Overview"
   ]
  },
  {
   "cell_type": "markdown",
   "metadata": {},
   "source": [
    "For this assignment you will explore a handful of problems that are most easily solved using recursive processes."
   ]
  },
  {
   "cell_type": "markdown",
   "metadata": {},
   "source": [
    "## The Super Digit\n",
    "\n",
    "The \"super digit\" of a (base 10) number *N* is defined as follows:\n",
    "- if the number consists of a single digit, it is simply *N*\n",
    "- otherwise, it is the super digit of the sum of the digits of *N*\n",
    "\n",
    "Examples:\n",
    "- the super digit of 7 is 7\n",
    "- the super digit of 42 is the super digit of 4+2=6, which is 6\n",
    "- the super digit of 9876 is the super digit of 9+8+7+6=30, which is the super digit of 3+0=3, which is 3\n",
    "\n",
    "Implement the recursive function `super_digit`, which returns the super digit of its argument."
   ]
  },
  {
   "cell_type": "code",
   "execution_count": 1,
   "metadata": {
    "collapsed": false,
    "deletable": false,
    "nbgrader": {
     "checksum": "7a54d6cbf5c2da9b9b623a8b2edf930b",
     "grade": false,
     "grade_id": "super_digit",
     "locked": false,
     "solution": true
    }
   },
   "outputs": [],
   "source": [
    "def super_digit(n):\n",
    "    num=str(n)\n",
    "    lst=[i for i in num]\n",
    "    if len(lst)>1:\n",
    "        summ=0\n",
    "        for i in range(len(lst)):\n",
    "            summ+=int(lst[i])\n",
    "        return super_digit(summ)\n",
    "    else:\n",
    "        return n"
   ]
  },
  {
   "cell_type": "code",
   "execution_count": 2,
   "metadata": {
    "collapsed": false,
    "deletable": false,
    "nbgrader": {
     "checksum": "323ea022b5c7d5439ff8f0784f8533d6",
     "grade": true,
     "grade_id": "super_digit_tests",
     "locked": true,
     "points": 5,
     "solution": false
    }
   },
   "outputs": [],
   "source": [
    "from unittest import TestCase\n",
    "\n",
    "tc = TestCase()\n",
    "\n",
    "tc.assertEqual(super_digit(5), 5)\n",
    "tc.assertEqual(super_digit(30), 3)\n",
    "tc.assertEqual(super_digit(9876), 3)\n",
    "tc.assertEqual(super_digit(11111111111111), 5)\n",
    "tc.assertEqual(super_digit(12345678901234567890), 9)"
   ]
  },
  {
   "cell_type": "markdown",
   "metadata": {},
   "source": [
    "## Pascal's Triangle\n",
    "\n",
    "Pascal's triangle is a triangular arrangement of numbers where the top row contains the single number `1`, and the values in each following (centered) row are the sum of the value(s) in the row above. The following first five rows of Pascal's triangle should help demonstrate the idea:\n",
    "\n",
    "              1\n",
    "             1 1\n",
    "            1 2 1\n",
    "           1 3 3 1\n",
    "          1 4 6 4 1\n",
    "      \n",
    "By convention, the rows and columns of Pascal's triangle are numbered starting from 0 — note that the 0th column of every row contains the value 1. To aid in the computation of edge cases (columns in rows that do not have two values above them), it is also convenient to imagine that there are columns in row 0 extending off in both directions that contain 0s. I.e., we might envision the first row of Pascal's triangle as follows:\n",
    "\n",
    "    ... 0 0 0 1 0 0 0 ...\n",
    "             1 1\n",
    "            1 2 1\n",
    "           1 3 3 1\n",
    "          1 4 6 4 1\n",
    "\n",
    "Wolfram Mathworld has a good writeup on the [properties and provenance of Pascal's Triangle](http://mathworld.wolfram.com/PascalsTriangle.html).\n",
    "\n",
    "Complete the following function, which returns the value to be found in a given row and column of Pascal's triangle."
   ]
  },
  {
   "cell_type": "code",
   "execution_count": 3,
   "metadata": {
    "collapsed": false,
    "deletable": false,
    "nbgrader": {
     "checksum": "7ccbe3e385175d3e881f34857e0d2509",
     "grade": false,
     "grade_id": "pascal",
     "locked": false,
     "solution": true
    }
   },
   "outputs": [],
   "source": [
    "def pascal(row, column):\n",
    "    if column>row or column<0:\n",
    "        return 0\n",
    "    elif row==0 and column==0:\n",
    "        return 1\n",
    "    elif row==1 and column==0:\n",
    "        return 1\n",
    "    elif row==1 and column==1:\n",
    "        return 1\n",
    "    else:\n",
    "        return pascal(row-1,column)+pascal(row-1,column-1)\n",
    "        "
   ]
  },
  {
   "cell_type": "code",
   "execution_count": 4,
   "metadata": {
    "collapsed": false
   },
   "outputs": [
    {
     "name": "stdout",
     "output_type": "stream",
     "text": [
      "                      1                      \n",
      "                     1 1                     \n",
      "                    1 2 1                    \n",
      "                   1 3 3 1                   \n",
      "                  1 4 6 4 1                  \n",
      "                1 5 10 10 5 1                \n",
      "              1 6 15 20 15 6 1               \n",
      "             1 7 21 35 35 21 7 1             \n",
      "           1 8 28 56 70 56 28 8 1            \n",
      "         1 9 36 84 126 126 84 36 9 1         \n"
     ]
    }
   ],
   "source": [
    "# generate the first 10 rows of Pascal's Triangle\n",
    "for row in range(10):\n",
    "    print('{: ^45}'.format(' '.join(str(pascal(row, col)) for col in range(row+1))))"
   ]
  },
  {
   "cell_type": "code",
   "execution_count": 5,
   "metadata": {
    "collapsed": false,
    "deletable": false,
    "nbgrader": {
     "checksum": "e1a8c41eb341987b9af48d3751ac23d2",
     "grade": true,
     "grade_id": "pascal_tests",
     "locked": true,
     "points": 5,
     "solution": false
    }
   },
   "outputs": [],
   "source": [
    "from unittest import TestCase\n",
    "\n",
    "tc = TestCase()\n",
    "\n",
    "tc.assertEqual(pascal(0, 0), 1)\n",
    "tc.assertEqual(pascal(1, 0), 1)\n",
    "tc.assertEqual(pascal(2, 1), 2)\n",
    "tc.assertEqual(pascal(5, 1), 5)\n",
    "tc.assertEqual(pascal(5, 2), 10)\n",
    "tc.assertEqual(pascal(10, 5), 252)"
   ]
  },
  {
   "cell_type": "markdown",
   "metadata": {},
   "source": [
    "## Subset Product\n",
    "\n",
    "This next one asks you to employ a common recursive pattern — that of computing all the subsets of a given set of things. In this problem, you are to determine whether or not an integer $P \\gt 1$ can be computed as the product of any combination of a provided list of integers (where each factor *f* $> 0$ can only be used once).\n",
    "\n",
    "Examples:\n",
    "\n",
    "- given $P = 10$, and the list [2, 3, 4, 5], we see that $2 \\times 5 = 10$, so the answer is yes\n",
    "- given $P = 81$, and the list [2, 2, 3, 3, 4, 9], $3 \\times 3 \\times 9 = 81$, so the answer is yes\n",
    "- given $P = 100$ and the list [3, 4, 5, 8, 10], the answer is no\n",
    "\n",
    "Complete the implementation of the recursive `can_make_product`, which returns `True` or False based on whether the argument `p` can be computed as the product of some subset of the list of integers `vals`."
   ]
  },
  {
   "cell_type": "code",
   "execution_count": 51,
   "metadata": {
    "collapsed": false,
    "deletable": false,
    "nbgrader": {
     "checksum": "ab268a2e936f14061c06af1da168efb2",
     "grade": false,
     "grade_id": "can_make_product",
     "locked": false,
     "solution": true
    }
   },
   "outputs": [],
   "source": [
    "def can_make_product(p, vals):\n",
    "    if len(vals)==0:\n",
    "            return p==1 \n",
    "    att=vals[0]\n",
    "    val=vals[1:]\n",
    "    \n",
    "    if p%att==0:\n",
    "        p=p/att\n",
    "        return can_make_product(p,val)\n",
    "    else:\n",
    "        return can_make_product(p,val)\n",
    "            "
   ]
  },
  {
   "cell_type": "code",
   "execution_count": 53,
   "metadata": {
    "collapsed": false,
    "deletable": false,
    "nbgrader": {
     "checksum": "5c8d04ea7fe1321a2c3f81e8ba8b8507",
     "grade": true,
     "grade_id": "can_make_product_tests",
     "locked": true,
     "points": 5,
     "solution": false
    }
   },
   "outputs": [],
   "source": [
    "from unittest import TestCase\n",
    "\n",
    "tc = TestCase()\n",
    "\n",
    "tc.assertTrue(can_make_product(10, [2, 5]))\n",
    "tc.assertTrue(can_make_product(10, [2, 3, 4, 5]))\n",
    "tc.assertTrue(can_make_product(10, [3, 4, 2, 5]))\n",
    "tc.assertTrue(can_make_product(10, [10]))\n",
    "tc.assertTrue(can_make_product(81, [2, 2, 3, 3, 4, 9]))\n",
    "tc.assertTrue(can_make_product(66402, [2, 4, 5, 12, 17, 25, 31, 63]))\n",
    "tc.assertFalse(can_make_product(10, [2, 2, 2, 4]))\n",
    "tc.assertFalse(can_make_product(243, [2, 2, 3, 3, 3, 4, 4, 4]))\n",
    "tc.assertFalse(can_make_product(81, [2, 3, 5, 9, 11]))\n",
    "tc.assertFalse(can_make_product(100, [3, 4, 5, 8, 10]))\n",
    "tc.assertFalse(can_make_product(12369, [3, 4, 5, 8, 19, 20, 31]))"
   ]
  },
  {
   "cell_type": "markdown",
   "metadata": {},
   "source": [
    "## Block Voting Systems"
   ]
  },
  {
   "cell_type": "markdown",
   "metadata": {},
   "source": [
    "In voting systems such as the United States' electoral college, voters are assigned different weights which we'll refer to as voting \"blocks\". This makes it so that a given voter may have a greater or lesser impact on the  outcome of a vote.\n",
    "\n",
    "There are a few different ways of measuring the effectiveness of a block voting system. You'll write a couple of recursion functions to help do this.\n",
    "\n",
    "To start, it's interesting to determine the number of ways in which a block voting system can be tied. Consider a system of 3 voting blocks: block A = 3 votes, block B = 2 votes, block C = 1 vote. The following are tie situations where each block can vote either *for* or *against* some measure:\n",
    "\n",
    "- A *for* vs. B + C *against* (3 vs. 2 + 1)\n",
    "- B + C *for* vs. A *against* (2 + 1 vs. 3)\n",
    "\n",
    "With the list of voting blocks [1, 1, 2, 3, 5], on the other hand, there are a total of 4 possible tied scenarios (you should be able to enumerate them).\n",
    "\n",
    "Complete the implementation of the function `number_ties`, which returns the number of tie situations arising from the provided list of voting blocks. Note that we've also include two default arguments that you may find useful in your implementation — feel free to change their names and/or initial values (or add additional arguments with default values). "
   ]
  },
  {
   "cell_type": "code",
   "execution_count": 54,
   "metadata": {
    "collapsed": false,
    "deletable": false,
    "nbgrader": {
     "checksum": "6a4c3267031ac78c627af122e2770c5a",
     "grade": false,
     "grade_id": "number_ties",
     "locked": false,
     "solution": true
    }
   },
   "outputs": [],
   "source": [
    "def number_ties(blocks, for_votes=0, against_votes=0):\n",
    "    if not blocks and for_votes !=against_votes:\n",
    "        return 0\n",
    "    elif not blocks and for_votes==against_votes:\n",
    "        return 1\n",
    "    else:\n",
    "        val=blocks[0]\n",
    "        return number_ties(blocks[1:],for_votes+val,against_votes)+number_ties(blocks[1:],for_votes,against_votes+val)"
   ]
  },
  {
   "cell_type": "code",
   "execution_count": 55,
   "metadata": {
    "collapsed": false,
    "deletable": false,
    "nbgrader": {
     "checksum": "acea9b265e944576ecc00032e372b31a",
     "grade": true,
     "grade_id": "number_ties_tests",
     "locked": true,
     "points": 5,
     "solution": false
    }
   },
   "outputs": [],
   "source": [
    "from unittest import TestCase\n",
    "\n",
    "tc = TestCase()\n",
    "\n",
    "tc.assertEqual(number_ties([1, 2, 3]), 2)\n",
    "tc.assertEqual(number_ties([1, 1, 2, 3, 5]), 4)\n",
    "tc.assertEqual(number_ties([4, 5, 6, 7, 8, 9]), 0)\n",
    "tc.assertEqual(number_ties([10, 15, 9, 4, 4, 8, 12, 8]), 10)\n",
    "tc.assertEqual(number_ties([17, 10, 9, 9, 10, 10, 7, 12, 17, 13, 14, 9, 16, 16, 5]), 554)\n",
    "tc.assertEqual(number_ties([16, 17, 17, 30, 15, 27, 22, 20, 33, 33, 26, 22, 27, 19, 15, 16, 25, 25, 19, 18]), 8040)"
   ]
  },
  {
   "cell_type": "markdown",
   "metadata": {},
   "source": [
    "More importantly, we can compute how many situations arise in which a given block can cast the *deciding vote*.\n",
    "\n",
    "E.g., given voting blocks [1, 2, 3, 4], to determine the number of times the last block casts the deciding vote, we observe that:\n",
    "- there are a total of eight ways in which blocks 1, 2, and 3 can vote:\n",
    "    1. 1 + 2 + 3 (for) vs. 0 (against)\n",
    "    2. 1 + 2 (for) vs. 3 (against)\n",
    "    3. 1 + 3 (for) vs. 2 (against)\n",
    "    4. 1 (for) vs. 2 + 3 (against)\n",
    "    5. 2 + 3 (for) vs. 1 (against)\n",
    "    6. 2 (for) vs. 1 + 3 (against)\n",
    "    7. 3 (for) vs. 1 + 2 (against)\n",
    "    8. 0 (for) vs. 1 + 2 + 3 (against)\n",
    "- in cases 2-7, the last voter (with a block of 4 votes) can cause the result to swing one way or the other (or end in a tie); we therefore say that the last block has the deciding vote in *6* cases\n",
    "\n",
    "If you repeat the analysis for blocks 1, 2, and 3, you'll find that they are the deciding voters in 2, 4, and 4 cases, respectively (meaning that the blocks with 2 and 3 votes are equally important!).\n",
    "\n",
    "You are to implement the function `deciding_votes_per_block`, which will take a list of voting blocks and return a list of times that each block is the deciding vote. You should define a separate recursive function (in the same cell) that computes the number of deciding votes given a particular block."
   ]
  },
  {
   "cell_type": "code",
   "execution_count": 64,
   "metadata": {
    "collapsed": false,
    "deletable": false,
    "nbgrader": {
     "checksum": "e03a47ea69d6392434704277a2a9410d",
     "grade": false,
     "grade_id": "deciding_votes",
     "locked": false,
     "solution": true
    }
   },
   "outputs": [],
   "source": [
    "def deciding_votes_per_block(blocks):\n",
    "    lst=[]\n",
    "    for i in range(len(blocks)):\n",
    "        deciding_votes=blocks.pop(i)\n",
    "        lst.append(count(blocks,deciding_votes))\n",
    "        blocks.insert(i,deciding_votes)\n",
    "    return lst\n",
    "def count(blocks1,deciding_votes,for_votes=0,against_votes=0,length=-1):\n",
    "    length+=1\n",
    "    if length>len(blocks1)-1:\n",
    "        if abs(for_votes-against_votes)<=deciding_votes:\n",
    "            return 1\n",
    "        else:\n",
    "            return 0\n",
    "    else:\n",
    "        toadd=blocks1[0]\n",
    "        return count(blocks1[1:],deciding_votes,for_votes+toadd,against_votes)+count(blocks1[1:],deciding_votes,for_votes,against_votes+toadd)\n",
    "        "
   ]
  },
  {
   "cell_type": "code",
   "execution_count": 65,
   "metadata": {
    "collapsed": false,
    "deletable": false,
    "nbgrader": {
     "checksum": "b7adca511f61bbb37354d0ab46876678",
     "grade": true,
     "grade_id": "deciding_votes_tests",
     "locked": true,
     "points": 5,
     "solution": false
    }
   },
   "outputs": [],
   "source": [
    "from unittest import TestCase\n",
    "\n",
    "tc = TestCase()\n",
    "\n",
    "tc.assertEqual(deciding_votes_per_block([1, 1, 2]), [2, 2, 4])\n",
    "tc.assertEqual(deciding_votes_per_block([1, 2, 3, 4]), [2, 4, 4, 6])\n",
    "tc.assertEqual(deciding_votes_per_block([4, 5, 6, 7, 8, 9]), [4, 8, 8, 12, 12, 16])\n",
    "tc.assertEqual(deciding_votes_per_block([10, 15, 9, 4, 4, 8, 12, 8]), [40, 70, 40, 20, 20, 34, 50, 34])\n",
    "tc.assertEqual(deciding_votes_per_block([17, 10, 9, 9, 10, 10, 7, 12, 17, 13, 14, 9, 16, 16, 5]), \n",
    "               [5112, 3040, 2750, 2750, 3040, 3040, 2172, 3578, 5112, 3886, 4200, 2750, 4792, 4792, 1626])"
   ]
  }
 ],
 "metadata": {
  "kernelspec": {
   "display_name": "Python [Root]",
   "language": "python",
   "name": "Python [Root]"
  },
  "language_info": {
   "codemirror_mode": {
    "name": "ipython",
    "version": 3
   },
   "file_extension": ".py",
   "mimetype": "text/x-python",
   "name": "python",
   "nbconvert_exporter": "python",
   "pygments_lexer": "ipython3",
   "version": "3.5.2"
  }
 },
 "nbformat": 4,
 "nbformat_minor": 0
}
