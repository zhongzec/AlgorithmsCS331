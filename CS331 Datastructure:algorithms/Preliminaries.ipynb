{
 "cells": [
  {
   "cell_type": "markdown",
   "metadata": {},
   "source": [
    "# Preliminaries\n",
    "\n",
    "All assignments for this class will be fetched, worked-on, and submitted via a dynamic in-browser Python development and testing environment known as the [Jupyter Notebook](http://jupyter.org/).\n",
    "\n",
    "This first machine problem is intended to familiarize you with the environment and assignment retrieval/submission system.\n",
    "\n",
    "## Fetching assignments\n",
    "\n",
    "If you're reading this, then you're likely already familiar with the procedure for fetching an assignment. To recap:\n",
    "\n",
    "- After logging in using your @hawk.iit.edu account, you'll either click \"Start Server\" or \"My Server\" to go to the Jupyter dashboard\n",
    "- From there, go to the \"Assignments\" tab, where you'll see any newly released assignments in the \"Released assignments\" area. You can fetch the files by clicking the \"Fetch\" button next to each assignment.\n",
    "- After an assignment has been fetched, you'll see it in the \"Downloaded assignments\" area, where you can expand the assignment to click on individual notebooks to open them up. You can also validate and submit your work here. Alternatively, you can also browse into an assignment folder from the \"Files\" tab and click on notebook files to open them up there."
   ]
  },
  {
   "cell_type": "markdown",
   "metadata": {},
   "source": [
    "## In-browser development\n",
    "\n",
    "One of the main reasons we're using the Jupyer Notebook platform is because it provides every student with a consistent, in-browser development environment. Each cell that you see in this notebook, in fact, can be used to evaluate Python code. Before proceeding, you might want to check out the [official Notebook interface documentation](http://jupyter-notebook.readthedocs.org/en/latest/notebook.html#notebook-user-interface).\n",
    "\n",
    "The most important thing for now --- we'll be going over more details during lecture --- is that you can select a code cell (marked with a `In [XX]` indicator to its left), hit `Enter` to edit it, and `shift-Enter` to evaluate its contents.\n",
    "\n",
    "Try this with the cells below. Note that definitions \"stick\" across cells, allowing us to write lengthy programs across cells in a notebook. Feel free to play around a bit."
   ]
  },
  {
   "cell_type": "code",
   "execution_count": null,
   "metadata": {
    "collapsed": true
   },
   "outputs": [],
   "source": [
    "def say_hello():\n",
    "    print(\"hello worlsdd!\")"
   ]
  },
  {
   "cell_type": "code",
   "execution_count": null,
   "metadata": {
    "collapsed": false
   },
   "outputs": [],
   "source": [
    "say_hello()"
   ]
  },
  {
   "cell_type": "markdown",
   "metadata": {},
   "source": [
    "### Autograded cells\n",
    "\n",
    "Many of the machine problems you'll be working on will have auto-graded pieces. Typically, these involve functions you need to complete, paired with test-cases written in advance. \n",
    "\n",
    "Below, for instance, is a stubbed out `factorial` function for you to complete. If you've forgotten, the factorial of a positive integer *n* is simply the product of all integers from *n* down through 1. E.g., the factorial of $5 = 5 \\times 4 \\times 3 \\times 2 \\times 1 = 120$.\n",
    "\n",
    "Go ahead and complete the implementation of `factorial` now. (You should delete the comment and the `raise` statement.)"
   ]
  },
  {
   "cell_type": "code",
   "execution_count": 8,
   "metadata": {
    "collapsed": false,
    "deletable": false,
    "nbgrader": {
     "checksum": "6cc7bf88a73f831bd36ba857b84dc335",
     "grade": false,
     "grade_id": "simple_math",
     "locked": false,
     "solution": true
    }
   },
   "outputs": [],
   "source": [
    "def factorial(n):\n",
    "    if(n==1):\n",
    "        return n\n",
    "    else:\n",
    "        return factorial(n-1)*n"
   ]
  },
  {
   "cell_type": "markdown",
   "metadata": {},
   "source": [
    "When you're done with your solution, you can run the tests in the cell below (but don't modify its contents!) to see how you did. Any errors will be displayed as output; if there is no output, it means you passed all the autograder tests."
   ]
  },
  {
   "cell_type": "code",
   "execution_count": 22,
   "metadata": {
    "collapsed": false,
    "deletable": false,
    "nbgrader": {
     "checksum": "8c55ae09fc62248a7d6d760f2f965bdc",
     "grade": true,
     "grade_id": "simple_math_test",
     "locked": true,
     "points": 2,
     "solution": false
    }
   },
   "outputs": [],
   "source": [
    "import unittest\n",
    "tc = unittest.TestCase()\n",
    "tc.assertEqual(factorial(1), 1)\n",
    "tc.assertEqual(factorial(5), 120)\n",
    "tc.assertEqual(factorial(10), 3628800)"
   ]
  },
  {
   "cell_type": "code",
   "execution_count": null,
   "metadata": {
    "collapsed": true
   },
   "outputs": [],
   "source": [
    "#the code above is the code to test the factorial function"
   ]
  },
  {
   "cell_type": "markdown",
   "metadata": {},
   "source": [
    "### Project Euler problems"
   ]
  },
  {
   "cell_type": "markdown",
   "metadata": {},
   "source": [
    "Because we've yet to discuss any data structures or algorithms, these next few general programming problems are taken from [Project Euler](https://projecteuler.net/) to provide some warm-up exercises for the Python language."
   ]
  },
  {
   "cell_type": "markdown",
   "metadata": {},
   "source": [
    "#### Multiples of 3 and 5\n",
    "\n",
    "If we list all the natural numbers below 10 that are multiples of 3 or 5, we get 3, 5, 6 and 9. The sum of these multiples is 23.\n",
    "\n",
    "Find the sum of all the multiples of 3 or 5 below the provided argument `n`."
   ]
  },
  {
   "cell_type": "code",
   "execution_count": 6,
   "metadata": {
    "collapsed": false,
    "deletable": false,
    "nbgrader": {
     "checksum": "7a7824cb313a6e3c1477023947231262",
     "grade": false,
     "grade_id": "multiples_of_3_and_5",
     "locked": false,
     "solution": true
    }
   },
   "outputs": [],
   "source": [
    "def multiples_of_3_and_5(n):\n",
    "    m=0\n",
    "    z=0\n",
    "    for i in range(n):\n",
    "        if(i%3==0):\n",
    "            m=i+m\n",
    "            i=i+3\n",
    "        elif(i%5==0):\n",
    "            z=i+z\n",
    "            i=i+5\n",
    "    return (m+z)"
   ]
  },
  {
   "cell_type": "code",
   "execution_count": null,
   "metadata": {
    "collapsed": true
   },
   "outputs": [],
   "source": [
    "#m and z here is to add up total sum"
   ]
  },
  {
   "cell_type": "code",
   "execution_count": 4,
   "metadata": {
    "collapsed": false,
    "deletable": false,
    "nbgrader": {
     "checksum": "cf6e0609f172e8acc03fc9ea11902efb",
     "grade": true,
     "grade_id": "multiples_of_3_and_5_test",
     "locked": true,
     "points": 4,
     "solution": false
    }
   },
   "outputs": [
    {
     "ename": "ValueError",
     "evalue": "no such test method in <class 'unittest.case.TestCase'>: runTest",
     "output_type": "error",
     "traceback": [
      "\u001b[0;31m---------------------------------------------------------------------------\u001b[0m",
      "\u001b[0;31mValueError\u001b[0m                                Traceback (most recent call last)",
      "\u001b[0;32m<ipython-input-4-c989b6807c69>\u001b[0m in \u001b[0;36m<module>\u001b[0;34m()\u001b[0m\n\u001b[1;32m      1\u001b[0m \u001b[0;32mimport\u001b[0m \u001b[0munittest\u001b[0m\u001b[0;34m\u001b[0m\u001b[0m\n\u001b[0;32m----> 2\u001b[0;31m \u001b[0mtc\u001b[0m \u001b[0;34m=\u001b[0m \u001b[0munittest\u001b[0m\u001b[0;34m.\u001b[0m\u001b[0mTestCase\u001b[0m\u001b[0;34m(\u001b[0m\u001b[0;34m)\u001b[0m\u001b[0;34m\u001b[0m\u001b[0m\n\u001b[0m\u001b[1;32m      3\u001b[0m \u001b[0mtc\u001b[0m\u001b[0;34m.\u001b[0m\u001b[0massertEqual\u001b[0m\u001b[0;34m(\u001b[0m\u001b[0mmultiples_of_3_and_5\u001b[0m\u001b[0;34m(\u001b[0m\u001b[0;36m10\u001b[0m\u001b[0;34m)\u001b[0m\u001b[0;34m,\u001b[0m \u001b[0;36m23\u001b[0m\u001b[0;34m)\u001b[0m\u001b[0;34m\u001b[0m\u001b[0m\n\u001b[1;32m      4\u001b[0m \u001b[0mtc\u001b[0m\u001b[0;34m.\u001b[0m\u001b[0massertEqual\u001b[0m\u001b[0;34m(\u001b[0m\u001b[0mmultiples_of_3_and_5\u001b[0m\u001b[0;34m(\u001b[0m\u001b[0;36m500\u001b[0m\u001b[0;34m)\u001b[0m\u001b[0;34m,\u001b[0m \u001b[0;36m57918\u001b[0m\u001b[0;34m)\u001b[0m\u001b[0;34m\u001b[0m\u001b[0m\n\u001b[1;32m      5\u001b[0m \u001b[0mtc\u001b[0m\u001b[0;34m.\u001b[0m\u001b[0massertEqual\u001b[0m\u001b[0;34m(\u001b[0m\u001b[0mmultiples_of_3_and_5\u001b[0m\u001b[0;34m(\u001b[0m\u001b[0;36m1000\u001b[0m\u001b[0;34m)\u001b[0m\u001b[0;34m,\u001b[0m \u001b[0;36m233168\u001b[0m\u001b[0;34m)\u001b[0m\u001b[0;34m\u001b[0m\u001b[0m\n",
      "\u001b[0;32m/Users/huangzhen/anaconda/lib/python2.7/unittest/case.pyc\u001b[0m in \u001b[0;36m__init__\u001b[0;34m(self, methodName)\u001b[0m\n\u001b[1;32m    187\u001b[0m         \u001b[0;32mexcept\u001b[0m \u001b[0mAttributeError\u001b[0m\u001b[0;34m:\u001b[0m\u001b[0;34m\u001b[0m\u001b[0m\n\u001b[1;32m    188\u001b[0m             raise ValueError(\"no such test method in %s: %s\" %\n\u001b[0;32m--> 189\u001b[0;31m                   (self.__class__, methodName))\n\u001b[0m\u001b[1;32m    190\u001b[0m         \u001b[0mself\u001b[0m\u001b[0;34m.\u001b[0m\u001b[0m_testMethodDoc\u001b[0m \u001b[0;34m=\u001b[0m \u001b[0mtestMethod\u001b[0m\u001b[0;34m.\u001b[0m\u001b[0m__doc__\u001b[0m\u001b[0;34m\u001b[0m\u001b[0m\n\u001b[1;32m    191\u001b[0m         \u001b[0mself\u001b[0m\u001b[0;34m.\u001b[0m\u001b[0m_cleanups\u001b[0m \u001b[0;34m=\u001b[0m \u001b[0;34m[\u001b[0m\u001b[0;34m]\u001b[0m\u001b[0;34m\u001b[0m\u001b[0m\n",
      "\u001b[0;31mValueError\u001b[0m: no such test method in <class 'unittest.case.TestCase'>: runTest"
     ]
    }
   ],
   "source": [
    "import unittest\n",
    "tc = unittest.TestCase()\n",
    "tc.assertEqual(multiples_of_3_and_5(10), 23)\n",
    "tc.assertEqual(multiples_of_3_and_5(500), 57918)\n",
    "tc.assertEqual(multiples_of_3_and_5(1000), 233168)"
   ]
  },
  {
   "cell_type": "markdown",
   "metadata": {},
   "source": [
    "#### Even Fibonacci numbers\n",
    "\n",
    "Each new term in the Fibonacci sequence is generated by adding the previous two terms. By starting with 1 and 2, the first 10 terms will be:\n",
    "\n",
    "    1, 2, 3, 5, 8, 13, 21, 34, 55, 89, ...\n",
    "\n",
    "By considering the terms in the Fibonacci sequence whose values do not exceed the argument `n`, find the sum of the even-valued terms."
   ]
  },
  {
   "cell_type": "code",
   "execution_count": 14,
   "metadata": {
    "collapsed": false,
    "deletable": false,
    "nbgrader": {
     "checksum": "f94d8078f9f8ae5f12a0f3d5f6c00f6a",
     "grade": false,
     "grade_id": "fib",
     "locked": false,
     "solution": true
    }
   },
   "outputs": [],
   "source": [
    "def even_fibonacci(n):\n",
    "    # YOUR CODE HERE\n",
    "    pre=1;\n",
    "    i=2;\n",
    "    sub=0;\n",
    "    result=0;\n",
    "    while(i<=n):\n",
    "        if(i%2==0):\n",
    "            result=result+i\n",
    "        sub=pre\n",
    "        pre=i\n",
    "        i=i+sub\n",
    "    return result       "
   ]
  },
  {
   "cell_type": "code",
   "execution_count": null,
   "metadata": {
    "collapsed": true
   },
   "outputs": [],
   "source": [
    "#the pre is the previous num, the sub is to save pre"
   ]
  },
  {
   "cell_type": "code",
   "execution_count": 8,
   "metadata": {
    "collapsed": false,
    "deletable": false,
    "nbgrader": {
     "checksum": "bfca1d2cc8c840689a908dba9dbaeb10",
     "grade": true,
     "grade_id": "fib_tests",
     "locked": true,
     "points": 4,
     "solution": false
    }
   },
   "outputs": [
    {
     "ename": "AssertionError",
     "evalue": "128 != 44",
     "output_type": "error",
     "traceback": [
      "\u001b[0;31m---------------------------------------------------------------------------\u001b[0m",
      "\u001b[0;31mAssertionError\u001b[0m                            Traceback (most recent call last)",
      "\u001b[0;32m<ipython-input-8-067eb9d0d00e>\u001b[0m in \u001b[0;36m<module>\u001b[0;34m()\u001b[0m\n\u001b[1;32m      1\u001b[0m \u001b[0;32mimport\u001b[0m \u001b[0munittest\u001b[0m\u001b[0;34m\u001b[0m\u001b[0m\n\u001b[1;32m      2\u001b[0m \u001b[0mtc\u001b[0m \u001b[0;34m=\u001b[0m \u001b[0munittest\u001b[0m\u001b[0;34m.\u001b[0m\u001b[0mTestCase\u001b[0m\u001b[0;34m(\u001b[0m\u001b[0;34m)\u001b[0m\u001b[0;34m\u001b[0m\u001b[0m\n\u001b[0;32m----> 3\u001b[0;31m \u001b[0mtc\u001b[0m\u001b[0;34m.\u001b[0m\u001b[0massertEqual\u001b[0m\u001b[0;34m(\u001b[0m\u001b[0meven_fibonacci\u001b[0m\u001b[0;34m(\u001b[0m\u001b[0;36m100\u001b[0m\u001b[0;34m)\u001b[0m\u001b[0;34m,\u001b[0m \u001b[0;36m44\u001b[0m\u001b[0;34m)\u001b[0m\u001b[0;34m\u001b[0m\u001b[0m\n\u001b[0m\u001b[1;32m      4\u001b[0m \u001b[0mtc\u001b[0m\u001b[0;34m.\u001b[0m\u001b[0massertEqual\u001b[0m\u001b[0;34m(\u001b[0m\u001b[0meven_fibonacci\u001b[0m\u001b[0;34m(\u001b[0m\u001b[0;36m10000\u001b[0m\u001b[0;34m)\u001b[0m\u001b[0;34m,\u001b[0m \u001b[0;36m3382\u001b[0m\u001b[0;34m)\u001b[0m\u001b[0;34m\u001b[0m\u001b[0m\n\u001b[1;32m      5\u001b[0m \u001b[0mtc\u001b[0m\u001b[0;34m.\u001b[0m\u001b[0massertEqual\u001b[0m\u001b[0;34m(\u001b[0m\u001b[0meven_fibonacci\u001b[0m\u001b[0;34m(\u001b[0m\u001b[0;36m4000000\u001b[0m\u001b[0;34m)\u001b[0m\u001b[0;34m,\u001b[0m \u001b[0;36m4613732\u001b[0m\u001b[0;34m)\u001b[0m\u001b[0;34m\u001b[0m\u001b[0m\n",
      "\u001b[0;32m/usr/lib/python3.4/unittest/case.py\u001b[0m in \u001b[0;36massertEqual\u001b[0;34m(self, first, second, msg)\u001b[0m\n\u001b[1;32m    795\u001b[0m         \"\"\"\n\u001b[1;32m    796\u001b[0m         \u001b[0massertion_func\u001b[0m \u001b[0;34m=\u001b[0m \u001b[0mself\u001b[0m\u001b[0;34m.\u001b[0m\u001b[0m_getAssertEqualityFunc\u001b[0m\u001b[0;34m(\u001b[0m\u001b[0mfirst\u001b[0m\u001b[0;34m,\u001b[0m \u001b[0msecond\u001b[0m\u001b[0;34m)\u001b[0m\u001b[0;34m\u001b[0m\u001b[0m\n\u001b[0;32m--> 797\u001b[0;31m         \u001b[0massertion_func\u001b[0m\u001b[0;34m(\u001b[0m\u001b[0mfirst\u001b[0m\u001b[0;34m,\u001b[0m \u001b[0msecond\u001b[0m\u001b[0;34m,\u001b[0m \u001b[0mmsg\u001b[0m\u001b[0;34m=\u001b[0m\u001b[0mmsg\u001b[0m\u001b[0;34m)\u001b[0m\u001b[0;34m\u001b[0m\u001b[0m\n\u001b[0m\u001b[1;32m    798\u001b[0m \u001b[0;34m\u001b[0m\u001b[0m\n\u001b[1;32m    799\u001b[0m     \u001b[0;32mdef\u001b[0m \u001b[0massertNotEqual\u001b[0m\u001b[0;34m(\u001b[0m\u001b[0mself\u001b[0m\u001b[0;34m,\u001b[0m \u001b[0mfirst\u001b[0m\u001b[0;34m,\u001b[0m \u001b[0msecond\u001b[0m\u001b[0;34m,\u001b[0m \u001b[0mmsg\u001b[0m\u001b[0;34m=\u001b[0m\u001b[0;32mNone\u001b[0m\u001b[0;34m)\u001b[0m\u001b[0;34m:\u001b[0m\u001b[0;34m\u001b[0m\u001b[0m\n",
      "\u001b[0;32m/usr/lib/python3.4/unittest/case.py\u001b[0m in \u001b[0;36m_baseAssertEqual\u001b[0;34m(self, first, second, msg)\u001b[0m\n\u001b[1;32m    788\u001b[0m             \u001b[0mstandardMsg\u001b[0m \u001b[0;34m=\u001b[0m \u001b[0;34m'%s != %s'\u001b[0m \u001b[0;34m%\u001b[0m \u001b[0m_common_shorten_repr\u001b[0m\u001b[0;34m(\u001b[0m\u001b[0mfirst\u001b[0m\u001b[0;34m,\u001b[0m \u001b[0msecond\u001b[0m\u001b[0;34m)\u001b[0m\u001b[0;34m\u001b[0m\u001b[0m\n\u001b[1;32m    789\u001b[0m             \u001b[0mmsg\u001b[0m \u001b[0;34m=\u001b[0m \u001b[0mself\u001b[0m\u001b[0;34m.\u001b[0m\u001b[0m_formatMessage\u001b[0m\u001b[0;34m(\u001b[0m\u001b[0mmsg\u001b[0m\u001b[0;34m,\u001b[0m \u001b[0mstandardMsg\u001b[0m\u001b[0;34m)\u001b[0m\u001b[0;34m\u001b[0m\u001b[0m\n\u001b[0;32m--> 790\u001b[0;31m             \u001b[0;32mraise\u001b[0m \u001b[0mself\u001b[0m\u001b[0;34m.\u001b[0m\u001b[0mfailureException\u001b[0m\u001b[0;34m(\u001b[0m\u001b[0mmsg\u001b[0m\u001b[0;34m)\u001b[0m\u001b[0;34m\u001b[0m\u001b[0m\n\u001b[0m\u001b[1;32m    791\u001b[0m \u001b[0;34m\u001b[0m\u001b[0m\n\u001b[1;32m    792\u001b[0m     \u001b[0;32mdef\u001b[0m \u001b[0massertEqual\u001b[0m\u001b[0;34m(\u001b[0m\u001b[0mself\u001b[0m\u001b[0;34m,\u001b[0m \u001b[0mfirst\u001b[0m\u001b[0;34m,\u001b[0m \u001b[0msecond\u001b[0m\u001b[0;34m,\u001b[0m \u001b[0mmsg\u001b[0m\u001b[0;34m=\u001b[0m\u001b[0;32mNone\u001b[0m\u001b[0;34m)\u001b[0m\u001b[0;34m:\u001b[0m\u001b[0;34m\u001b[0m\u001b[0m\n",
      "\u001b[0;31mAssertionError\u001b[0m: 128 != 44"
     ]
    }
   ],
   "source": [
    "import unittest\n",
    "tc = unittest.TestCase()\n",
    "tc.assertEqual(even_fibonacci(100), 44)\n",
    "tc.assertEqual(even_fibonacci(10000), 3382)\n",
    "tc.assertEqual(even_fibonacci(4000000), 4613732)"
   ]
  },
  {
   "cell_type": "markdown",
   "metadata": {},
   "source": [
    "## Submission\n",
    "\n",
    "When you're ready to submit your work, make sure it's saved (you can click the disk icon in the menu bar), then go back to the \"Assignments\" tab and click \"Submit\" next to this assignment in the \"Downloaded assignments\" area. You can submit as many times as you like before the due date -- you'll see your submissions listed in the \"Submitted assignments\" area.\n",
    "\n",
    "That's it for now!"
   ]
  }
 ],
 "metadata": {
  "anaconda-cloud": {},
  "kernelspec": {
   "display_name": "Python [Root]",
   "language": "python",
   "name": "Python [Root]"
  },
  "language_info": {
   "codemirror_mode": {
    "name": "ipython",
    "version": 3
   },
   "file_extension": ".py",
   "mimetype": "text/x-python",
   "name": "python",
   "nbconvert_exporter": "python",
   "pygments_lexer": "ipython3",
   "version": "3.5.2"
  }
 },
 "nbformat": 4,
 "nbformat_minor": 0
}
