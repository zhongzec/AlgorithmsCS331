{
 "cells": [
  {
   "cell_type": "markdown",
   "metadata": {},
   "source": [
    "# BSTree\n",
    "\n",
    "## Overview\n",
    "\n",
    "In this notebook you will modify the binary search tree implementation completed in class so that it can be used as a mapping structure. The `Node` class will be updated so as to hold separate key and value attributes (instead of a single value, as it currently does), and instead of the `add` method, you should implement the [`__getitem__`](https://docs.python.org/3.5/reference/datamodel.html#object.__getitem__) and [`__setitem__`](https://docs.python.org/3.5/reference/datamodel.html#object.__setitem__) methods in order to associate keys and values. `__delitem__`, `__contains__`, and `__iter__` will also need to be updated, to perform key-based removal, search, and iteration. Finally, the `keys`, `values`, and `items` methods will return iterators that allow the keys, values, and key/value tuples of the tree (all sorted in order of their associated keys) to be traversed.\n",
    "\n",
    "If `__setitem__` is called with an existing key, the method will simply locate the associated node and update its value with the newly provided value (as you would expect a mapping structure to do). If either `__getitem__` or `__delitem__` are called with a key that does not exist in the tree, a `KeyError` should be raised.\n",
    "\n",
    "The API described above will allow the tree to be used as follows:\n",
    "\n",
    "    t = BSTree()\n",
    "    t[0] = 'zero'\n",
    "    t[5] = 'five'\n",
    "    t[2] = 'two'\n",
    "\n",
    "    print(t[5])\n",
    "    \n",
    "    t[5] = 'FIVE!!!'\n",
    "\n",
    "    for k,v in t.items():\n",
    "        print(k, '=', v)\n",
    "\n",
    "    del t[2]\n",
    "\n",
    "    print('length =', len(t))\n",
    "    \n",
    "The expected output of the above follows:\n",
    "\n",
    "    five\n",
    "    0 = zero\n",
    "    2 = two\n",
    "    5 = FIVE!!!\n",
    "    length = 2\n",
    "\n",
    "The following `BSTree` class contains an updated `Node`, and stubs for the methods you are to implement. The first few simple test cases beneath the class definition should help clarify the required behavior."
   ]
  },
  {
   "cell_type": "code",
   "execution_count": 31,
   "metadata": {
    "collapsed": false,
    "deletable": false,
    "nbgrader": {
     "checksum": "1762221d2b2400da2786c9969d816f2c",
     "grade": false,
     "grade_id": "bstree",
     "locked": false,
     "solution": true
    }
   },
   "outputs": [],
   "source": [
    "class BSTree:\n",
    "    class Node:\n",
    "        def __init__(self, key, val, left=None, right=None):\n",
    "            self.key = key\n",
    "            self.val = val\n",
    "            self.left = left\n",
    "            self.right = right\n",
    "            \n",
    "    def __init__(self):\n",
    "        self.size = 0\n",
    "        self.root = None\n",
    "        \n",
    "    def __getitem__(self, key):\n",
    "        def get_rec(t):\n",
    "                if not t:\n",
    "                    raise KeyError\n",
    "                elif t.key==key:\n",
    "                    return t.val\n",
    "                elif t.key>key:\n",
    "                    t=get_rec(t.left)\n",
    "                    return t\n",
    "                elif t.key<key:\n",
    "                    t=get_rec(t.right)\n",
    "                    return t\n",
    "        ret=get_rec(self.root)\n",
    "        return ret\n",
    "        \n",
    "        \n",
    "    \n",
    "    def __setitem__(self, key, val):\n",
    "        flag=True\n",
    "        def add_rec(t):\n",
    "                if not t:\n",
    "                    return BSTree.Node(key,val)\n",
    "                elif t.key==key:\n",
    "                    t.val=val\n",
    "                    flag=False\n",
    "                    return t\n",
    "                elif t.key<key:\n",
    "                    t.right=add_rec(t.right)\n",
    "                    return t\n",
    "                elif t.key>key:\n",
    "                    t.left=add_rec(t.left)\n",
    "                    return t\n",
    "        self.root=add_rec(self.root)\n",
    "        if flag:\n",
    "            self.size+=1\n",
    "        \n",
    "    def __delitem__(self, key):\n",
    "        assert(key in self)\n",
    "        def del_rec(node):\n",
    "                if node.key<key:\n",
    "                    node.right=del_rec(node.right)\n",
    "                    return node\n",
    "                elif node.key>key:\n",
    "                    node.left=del_rec(node.left)\n",
    "                    return node\n",
    "                else:\n",
    "                    if not node.left and not node.right:\n",
    "                        return None\n",
    "                    elif node.left and not node.right:\n",
    "                        return node.left\n",
    "                    elif not node.left and node.right:\n",
    "                        return node.right\n",
    "                    else:\n",
    "                        node=node.left\n",
    "                        if not node.right:\n",
    "                            node.val = t.val\n",
    "                            node.left = t.left\n",
    "                        else:\n",
    "                            n=node\n",
    "                            while n.right.right:\n",
    "                                n=n.right\n",
    "                            node=n.right\n",
    "                            n.right=t.left\n",
    "                            node.val=t.val\n",
    "                        return node\n",
    "        self.root=del_rec(self.root)\n",
    "        self.size-=1\n",
    "        \n",
    "    def __contains__(self, key):\n",
    "        try:\n",
    "            if self[key]!=None:\n",
    "                return True\n",
    "            else:\n",
    "                return False\n",
    "        except:\n",
    "            return False\n",
    "    \n",
    "    def __len__(self):\n",
    "        return self.size\n",
    "    \n",
    "    def __iter__(self):\n",
    "        def iter_rec(node):\n",
    "            if node:\n",
    "                yield from iter_rec(node.left)\n",
    "                yield node.val\n",
    "                yield from iter_rec(node.right)             \n",
    "        return iter_rec(self.root)\n",
    "        \n",
    "    def keys(self):\n",
    "        def iter_rec(node):\n",
    "            if node:\n",
    "                yield from iter_rec(node.left)\n",
    "                yield node.key\n",
    "                yield from iter_rec(node.right)             \n",
    "        return iter_rec(self.root)\n",
    "    def values(self):\n",
    "        def iter_rec(node):\n",
    "            if node:\n",
    "                yield from iter_rec(node.left)\n",
    "                yield node.val\n",
    "                yield from iter_rec(node.right)             \n",
    "        return iter_rec(self.root)\n",
    "    def items(self):\n",
    "        def iter_rec(node):\n",
    "            if node:\n",
    "                yield from iter_rec(node.left)\n",
    "                yield (node.key,node.val)\n",
    "                yield from iter_rec(node.right)             \n",
    "        return iter_rec(self.root)\n",
    "        \n",
    "    def pprint(self, width=64):\n",
    "        \"\"\"Attempts to pretty-print this tree's contents.\"\"\"\n",
    "        height = self.height()\n",
    "        nodes  = [(self.root, 0)]\n",
    "        prev_level = 0\n",
    "        repr_str = ''\n",
    "        while nodes:\n",
    "            n,level = nodes.pop(0)\n",
    "            if prev_level != level:\n",
    "                prev_level = level\n",
    "                repr_str += '\\n'\n",
    "            if not n:\n",
    "                if level < height-1:\n",
    "                    nodes.extend([(None, level+1), (None, level+1)])\n",
    "                repr_str += '{val:^{width}}'.format(val='-', width=width//2**level)\n",
    "            elif n:\n",
    "                if n.left or level < height-1:\n",
    "                    nodes.append((n.left, level+1))\n",
    "                if n.right or level < height-1:\n",
    "                    nodes.append((n.right, level+1))\n",
    "                repr_str += '{val:^{width}}'.format(val=n.key, width=width//2**level)\n",
    "        print(repr_str)\n",
    "    \n",
    "    def height(self):\n",
    "        \"\"\"Returns the height of the longest branch of the tree.\"\"\"\n",
    "        def height_rec(t):\n",
    "            if not t:\n",
    "                return 0\n",
    "            else:\n",
    "                return max(1+height_rec(t.left), 1+height_rec(t.right))\n",
    "        return height_rec(self.root)"
   ]
  },
  {
   "cell_type": "code",
   "execution_count": 32,
   "metadata": {
    "collapsed": false,
    "deletable": false,
    "nbgrader": {
     "checksum": "92c6a8cdf21c7e1131ce9a657d94d8dc",
     "grade": true,
     "grade_id": "simple_tests_1",
     "locked": true,
     "points": 2,
     "solution": false
    }
   },
   "outputs": [],
   "source": [
    "from unittest import TestCase\n",
    "\n",
    "tc = TestCase()\n",
    "t = BSTree()\n",
    "tc.assertEqual(len(t), 0)\n",
    "tc.assertFalse(0 in t)\n",
    "t[0] = 'zero'\n",
    "tc.assertTrue(0 in t)\n",
    "tc.assertEqual(len(t), 1)"
   ]
  },
  {
   "cell_type": "code",
   "execution_count": 33,
   "metadata": {
    "collapsed": true,
    "deletable": false,
    "nbgrader": {
     "checksum": "c853b4c23a4828b4c7e8c562e218b1bd",
     "grade": true,
     "grade_id": "simple_tests_2",
     "locked": true,
     "points": 2,
     "solution": false
    }
   },
   "outputs": [],
   "source": [
    "from unittest import TestCase\n",
    "\n",
    "tc = TestCase()\n",
    "t = BSTree()\n",
    "tc.assertEqual(len(t), 0)\n",
    "t[0] = 'zero'\n",
    "tc.assertEqual(t[0], 'zero')"
   ]
  },
  {
   "cell_type": "code",
   "execution_count": 34,
   "metadata": {
    "collapsed": false,
    "deletable": false,
    "nbgrader": {
     "checksum": "ed04001337da7168f8f3ae4abbdec55d",
     "grade": true,
     "grade_id": "simple_tests_3",
     "locked": true,
     "points": 2,
     "solution": false
    }
   },
   "outputs": [
    {
     "ename": "AssertionError",
     "evalue": "1 != 0",
     "output_type": "error",
     "traceback": [
      "\u001b[0;31m---------------------------------------------------------------------------\u001b[0m",
      "\u001b[0;31mAssertionError\u001b[0m                            Traceback (most recent call last)",
      "\u001b[0;32m<ipython-input-34-fa25dfd2599c>\u001b[0m in \u001b[0;36m<module>\u001b[0;34m()\u001b[0m\n\u001b[1;32m      7\u001b[0m \u001b[0;32mdel\u001b[0m \u001b[0mt\u001b[0m\u001b[0;34m[\u001b[0m\u001b[0;36m0\u001b[0m\u001b[0;34m]\u001b[0m\u001b[0;34m\u001b[0m\u001b[0m\n\u001b[1;32m      8\u001b[0m \u001b[0mtc\u001b[0m\u001b[0;34m.\u001b[0m\u001b[0massertFalse\u001b[0m\u001b[0;34m(\u001b[0m\u001b[0;36m0\u001b[0m \u001b[0;32min\u001b[0m \u001b[0mt\u001b[0m\u001b[0;34m)\u001b[0m\u001b[0;34m\u001b[0m\u001b[0m\n\u001b[0;32m----> 9\u001b[0;31m \u001b[0mtc\u001b[0m\u001b[0;34m.\u001b[0m\u001b[0massertEqual\u001b[0m\u001b[0;34m(\u001b[0m\u001b[0mlen\u001b[0m\u001b[0;34m(\u001b[0m\u001b[0mt\u001b[0m\u001b[0;34m)\u001b[0m\u001b[0;34m,\u001b[0m \u001b[0;36m0\u001b[0m\u001b[0;34m)\u001b[0m\u001b[0;34m\u001b[0m\u001b[0m\n\u001b[0m",
      "\u001b[0;32m/Users/huangzhen/anaconda/lib/python3.5/unittest/case.py\u001b[0m in \u001b[0;36massertEqual\u001b[0;34m(self, first, second, msg)\u001b[0m\n\u001b[1;32m    818\u001b[0m         \"\"\"\n\u001b[1;32m    819\u001b[0m         \u001b[0massertion_func\u001b[0m \u001b[0;34m=\u001b[0m \u001b[0mself\u001b[0m\u001b[0;34m.\u001b[0m\u001b[0m_getAssertEqualityFunc\u001b[0m\u001b[0;34m(\u001b[0m\u001b[0mfirst\u001b[0m\u001b[0;34m,\u001b[0m \u001b[0msecond\u001b[0m\u001b[0;34m)\u001b[0m\u001b[0;34m\u001b[0m\u001b[0m\n\u001b[0;32m--> 820\u001b[0;31m         \u001b[0massertion_func\u001b[0m\u001b[0;34m(\u001b[0m\u001b[0mfirst\u001b[0m\u001b[0;34m,\u001b[0m \u001b[0msecond\u001b[0m\u001b[0;34m,\u001b[0m \u001b[0mmsg\u001b[0m\u001b[0;34m=\u001b[0m\u001b[0mmsg\u001b[0m\u001b[0;34m)\u001b[0m\u001b[0;34m\u001b[0m\u001b[0m\n\u001b[0m\u001b[1;32m    821\u001b[0m \u001b[0;34m\u001b[0m\u001b[0m\n\u001b[1;32m    822\u001b[0m     \u001b[0;32mdef\u001b[0m \u001b[0massertNotEqual\u001b[0m\u001b[0;34m(\u001b[0m\u001b[0mself\u001b[0m\u001b[0;34m,\u001b[0m \u001b[0mfirst\u001b[0m\u001b[0;34m,\u001b[0m \u001b[0msecond\u001b[0m\u001b[0;34m,\u001b[0m \u001b[0mmsg\u001b[0m\u001b[0;34m=\u001b[0m\u001b[0;32mNone\u001b[0m\u001b[0;34m)\u001b[0m\u001b[0;34m:\u001b[0m\u001b[0;34m\u001b[0m\u001b[0m\n",
      "\u001b[0;32m/Users/huangzhen/anaconda/lib/python3.5/unittest/case.py\u001b[0m in \u001b[0;36m_baseAssertEqual\u001b[0;34m(self, first, second, msg)\u001b[0m\n\u001b[1;32m    811\u001b[0m             \u001b[0mstandardMsg\u001b[0m \u001b[0;34m=\u001b[0m \u001b[0;34m'%s != %s'\u001b[0m \u001b[0;34m%\u001b[0m \u001b[0m_common_shorten_repr\u001b[0m\u001b[0;34m(\u001b[0m\u001b[0mfirst\u001b[0m\u001b[0;34m,\u001b[0m \u001b[0msecond\u001b[0m\u001b[0;34m)\u001b[0m\u001b[0;34m\u001b[0m\u001b[0m\n\u001b[1;32m    812\u001b[0m             \u001b[0mmsg\u001b[0m \u001b[0;34m=\u001b[0m \u001b[0mself\u001b[0m\u001b[0;34m.\u001b[0m\u001b[0m_formatMessage\u001b[0m\u001b[0;34m(\u001b[0m\u001b[0mmsg\u001b[0m\u001b[0;34m,\u001b[0m \u001b[0mstandardMsg\u001b[0m\u001b[0;34m)\u001b[0m\u001b[0;34m\u001b[0m\u001b[0m\n\u001b[0;32m--> 813\u001b[0;31m             \u001b[0;32mraise\u001b[0m \u001b[0mself\u001b[0m\u001b[0;34m.\u001b[0m\u001b[0mfailureException\u001b[0m\u001b[0;34m(\u001b[0m\u001b[0mmsg\u001b[0m\u001b[0;34m)\u001b[0m\u001b[0;34m\u001b[0m\u001b[0m\n\u001b[0m\u001b[1;32m    814\u001b[0m \u001b[0;34m\u001b[0m\u001b[0m\n\u001b[1;32m    815\u001b[0m     \u001b[0;32mdef\u001b[0m \u001b[0massertEqual\u001b[0m\u001b[0;34m(\u001b[0m\u001b[0mself\u001b[0m\u001b[0;34m,\u001b[0m \u001b[0mfirst\u001b[0m\u001b[0;34m,\u001b[0m \u001b[0msecond\u001b[0m\u001b[0;34m,\u001b[0m \u001b[0mmsg\u001b[0m\u001b[0;34m=\u001b[0m\u001b[0;32mNone\u001b[0m\u001b[0;34m)\u001b[0m\u001b[0;34m:\u001b[0m\u001b[0;34m\u001b[0m\u001b[0m\n",
      "\u001b[0;31mAssertionError\u001b[0m: 1 != 0"
     ]
    }
   ],
   "source": [
    "from unittest import TestCase\n",
    "\n",
    "tc = TestCase()\n",
    "t = BSTree()\n",
    "tc.assertEqual(len(t), 0)\n",
    "t[0] = 'zero'\n",
    "del t[0]\n",
    "tc.assertFalse(0 in t)\n",
    "tc.assertEqual(len(t), 0)"
   ]
  },
  {
   "cell_type": "code",
   "execution_count": 25,
   "metadata": {
    "collapsed": false,
    "deletable": false,
    "nbgrader": {
     "checksum": "f8d7a421f0b3bb1f5b6276385bc3fe15",
     "grade": true,
     "grade_id": "simple_tests_4",
     "locked": true,
     "points": 2,
     "solution": false
    }
   },
   "outputs": [],
   "source": [
    "from unittest import TestCase\n",
    "\n",
    "tc = TestCase()\n",
    "t = BSTree()\n",
    "key_vals = [(0, 'zero'), (2, 'two'), (1, 'one')]\n",
    "sorted_key_vals = sorted(key_vals)\n",
    "\n",
    "for k,v in key_vals:\n",
    "    t[k] = v\n",
    "\n",
    "for i,k in enumerate(t.keys()):\n",
    "    tc.assertEqual(k, sorted_key_vals[i][0])"
   ]
  },
  {
   "cell_type": "code",
   "execution_count": 26,
   "metadata": {
    "collapsed": false,
    "deletable": false,
    "nbgrader": {
     "checksum": "8dbdc45a872d185b5f4fe0d3808c110e",
     "grade": true,
     "grade_id": "simple_tests_5",
     "locked": true,
     "points": 1,
     "solution": false
    }
   },
   "outputs": [],
   "source": [
    "from unittest import TestCase\n",
    "\n",
    "tc = TestCase()\n",
    "t = BSTree()\n",
    "key_vals = [(0, 'zero'), (2, 'two'), (1, 'one')]\n",
    "sorted_key_vals = sorted(key_vals)\n",
    "\n",
    "for k,v in key_vals:\n",
    "    t[k] = v\n",
    "\n",
    "for i,v in enumerate(t.values()):\n",
    "    tc.assertEqual(v, sorted_key_vals[i][1])"
   ]
  },
  {
   "cell_type": "code",
   "execution_count": 27,
   "metadata": {
    "collapsed": false,
    "deletable": false,
    "nbgrader": {
     "checksum": "efe603b0d564eee763d6d88f7b79e5ba",
     "grade": true,
     "grade_id": "simple_tests_6",
     "locked": true,
     "points": 1,
     "solution": false
    }
   },
   "outputs": [],
   "source": [
    "from unittest import TestCase\n",
    "\n",
    "tc = TestCase()\n",
    "t = BSTree()\n",
    "key_vals = [(0, 'zero'), (2, 'two'), (1, 'one')]\n",
    "sorted_key_vals = sorted(key_vals)\n",
    "\n",
    "for k,v in key_vals:\n",
    "    t[k] = v\n",
    "\n",
    "for i,(k,v) in enumerate(t.items()):\n",
    "    tc.assertEqual(k, sorted_key_vals[i][0])\n",
    "    tc.assertEqual(v, sorted_key_vals[i][1])"
   ]
  },
  {
   "cell_type": "code",
   "execution_count": 28,
   "metadata": {
    "collapsed": false,
    "deletable": false,
    "nbgrader": {
     "checksum": "2ddf1f08428f0a8eca3959afcd35cd40",
     "grade": true,
     "grade_id": "stress_testing",
     "locked": true,
     "points": 5,
     "solution": false
    }
   },
   "outputs": [],
   "source": [
    "from unittest import TestCase\n",
    "import random\n",
    "\n",
    "tc = TestCase()\n",
    "t = BSTree()\n",
    "keys = list(range(100, 1000, 11))\n",
    "random.shuffle(keys)\n",
    "vals = [random.randrange(1000) for _ in range(100, 1000, 11)]\n",
    "\n",
    "for i in range(len(keys)):\n",
    "    t[keys[i]] = vals[i]\n",
    "\n",
    "for i in range(len(keys)):\n",
    "    tc.assertEqual(t[keys[i]], vals[i])"
   ]
  },
  {
   "cell_type": "code",
   "execution_count": 29,
   "metadata": {
    "collapsed": false,
    "deletable": false,
    "nbgrader": {
     "checksum": "c3ac62518ad9c9c517bed562763bf77c",
     "grade": true,
     "grade_id": "iter_testing",
     "locked": true,
     "points": 5,
     "solution": false
    }
   },
   "outputs": [],
   "source": [
    "from unittest import TestCase\n",
    "import random\n",
    "\n",
    "tc = TestCase()\n",
    "t = BSTree()\n",
    "keys = list(range(100, 1000, 11))\n",
    "shuffled_keys = keys.copy()\n",
    "random.shuffle(shuffled_keys)\n",
    "\n",
    "for k in shuffled_keys:\n",
    "    t[k] = str(k)\n",
    "\n",
    "for i,k in enumerate(t.keys()):\n",
    "    tc.assertEqual(k, keys[i])\n",
    "\n",
    "for i,v in enumerate(t.values()):\n",
    "    tc.assertEqual(v, str(keys[i]))\n",
    "\n",
    "for i,(k,v) in enumerate(t.items()):\n",
    "    tc.assertEqual(k, keys[i])\n",
    "    tc.assertEqual(v, str(keys[i]))"
   ]
  },
  {
   "cell_type": "code",
   "execution_count": 30,
   "metadata": {
    "collapsed": false,
    "deletable": false,
    "nbgrader": {
     "checksum": "2817ed22593b339e18922542c2433047",
     "grade": true,
     "grade_id": "keyerror_tests",
     "locked": true,
     "points": 5,
     "solution": false
    }
   },
   "outputs": [],
   "source": [
    "from unittest import TestCase\n",
    "import random\n",
    "\n",
    "tc = TestCase()\n",
    "t = BSTree()\n",
    "keys = list(range(0, 100, 2))\n",
    "random.shuffle(keys)\n",
    "\n",
    "for x in keys:\n",
    "    t[x] = x*2\n",
    "\n",
    "for k in range(1, 101, 2):\n",
    "    with tc.assertRaises(KeyError):\n",
    "        v = t[k]"
   ]
  },
  {
   "cell_type": "code",
   "execution_count": null,
   "metadata": {
    "collapsed": true
   },
   "outputs": [],
   "source": []
  },
  {
   "cell_type": "code",
   "execution_count": null,
   "metadata": {
    "collapsed": true
   },
   "outputs": [],
   "source": []
  }
 ],
 "metadata": {
  "anaconda-cloud": {},
  "kernelspec": {
   "display_name": "Python [Root]",
   "language": "python",
   "name": "Python [Root]"
  },
  "language_info": {
   "codemirror_mode": {
    "name": "ipython",
    "version": 3
   },
   "file_extension": ".py",
   "mimetype": "text/x-python",
   "name": "python",
   "nbconvert_exporter": "python",
   "pygments_lexer": "ipython3",
   "version": "3.5.2"
  }
 },
 "nbformat": 4,
 "nbformat_minor": 0
}
