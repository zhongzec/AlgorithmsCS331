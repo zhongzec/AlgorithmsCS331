{
 "cells": [
  {
   "cell_type": "markdown",
   "metadata": {},
   "source": [
    "# Heaps"
   ]
  },
  {
   "cell_type": "markdown",
   "metadata": {},
   "source": [
    "## Overview\n",
    "\n",
    "For this assignment you will update the heap data structure implemented in class so that it accepts a `key` function in its initializer, which will allow the contents of the heap to be maintained using an arbitrary priority (as dictated by the key extracted by said function).\n",
    "\n",
    "See the naive implementation of a priority queue in the [lecture notes](https://braeburn.cs.iit.edu/jupyter/user/lee/notebooks/cs331/source/Lectures/priority-queues.ipynb#2.-Naive-implementation) (and the following examples) for details on how such a `key` function might be used. Your changes to the `Heap` class will need to be more extensive, however, than those found in the naive priority queue, as we are not using a built-in `sort` (which already takes a `key` function). \n",
    "\n",
    "Just as with the naive priority queue, the default `key` function should simply sort on the value of the elements themselves — such a default value has already been inserted for you into the `__init__` parameter list. You will, at the very least, need to update the `_heapify` and `add` methods, below, to complete this assignment."
   ]
  },
  {
   "cell_type": "code",
   "execution_count": 2,
   "metadata": {
    "collapsed": true,
    "deletable": false,
    "nbgrader": {
     "checksum": "61b1e92cfbdaaffba1ffc54963961093",
     "grade": false,
     "grade_id": "heap",
     "locked": false,
     "solution": true
    }
   },
   "outputs": [],
   "source": [
    "class Heap:\n",
    "    def __init__(self, key=lambda x:x):\n",
    "        self.data = []\n",
    "        self.key  = key\n",
    "\n",
    "    @staticmethod\n",
    "    def _parent(idx):\n",
    "        return (idx-1)//2 #the formula to get the parent\n",
    "        \n",
    "    @staticmethod\n",
    "    def _left(idx):\n",
    "        return idx*2+1\n",
    "\n",
    "    @staticmethod\n",
    "    def _right(idx):\n",
    "        return idx*2+2\n",
    "    \n",
    "    def _heapify(self, curr=0):\n",
    "        left=Heap._left(curr)\n",
    "        right=Heap._right(curr)\n",
    "        max_idx=curr\n",
    "        if left<len(self.data) and self.key(self.data[left])>self.key(self.data[max_idx]):\n",
    "            max_idx=left\n",
    "        if right<len(self.data) and self.key(self.data[right])> self.key(self.data[max_idx]):\n",
    "            max_idx=right\n",
    "        if max_idx !=curr:\n",
    "            self.data[curr],self.data[max_idx]=self.data[max_idx],self.data[curr]\n",
    "            curr=max_idx\n",
    "            self._heapify(max_idx)\n",
    "    \n",
    "            \n",
    "    def add(self, x):\n",
    "        self.data.append(x)\n",
    "        idx=len(self.data)-1#the last one in list\n",
    "        pidx=Heap._parent(idx)\n",
    "        while idx!=0 and self.key(self.data[pidx])<self.key(self.data[idx]):\n",
    "            self.data[pidx],self.data[idx]=self.data[idx],self.data[pidx]\n",
    "            idx=pidx\n",
    "            pidx=Heap._parent(idx)\n",
    "            \n",
    "        \n",
    "    def max(self):\n",
    "        return self.data[0]\n",
    "\n",
    "    def pop_max(self):\n",
    "        ret = self.data[0]\n",
    "        self.data[0] = self.data[len(self.data)-1]\n",
    "        del self.data[len(self.data)-1]\n",
    "        self._heapify()\n",
    "        return ret\n",
    "    \n",
    "    def __bool__(self):\n",
    "        return len(self.data) > 0\n",
    "\n",
    "    def __len__(self):\n",
    "        return len(self.data)\n",
    "\n",
    "    def __repr__(self):\n",
    "        return repr(self.data)"
   ]
  },
  {
   "cell_type": "code",
   "execution_count": 10,
   "metadata": {
    "collapsed": false
   },
   "outputs": [
    {
     "data": {
      "text/plain": [
       "[9, 8, 5, 6, 7, 1, 4, 0, 3, 2]"
      ]
     },
     "execution_count": 10,
     "metadata": {},
     "output_type": "execute_result"
    }
   ],
   "source": [
    "h=Heap()\n",
    "for i in range(10):\n",
    "    h.add(i)\n",
    "h\n"
   ]
  },
  {
   "cell_type": "code",
   "execution_count": 65,
   "metadata": {
    "collapsed": false,
    "deletable": false,
    "nbgrader": {
     "checksum": "1d8e46af7ffa20d1d64d7d13668e4344",
     "grade": true,
     "grade_id": "heap_test_1",
     "locked": true,
     "points": 3,
     "solution": false
    }
   },
   "outputs": [],
   "source": [
    "from unittest import TestCase\n",
    "import random\n",
    "\n",
    "tc = TestCase()\n",
    "h = Heap()\n",
    "\n",
    "random.seed(0)\n",
    "for _ in range(10):\n",
    "    h.add(random.randrange(100))\n",
    "\n",
    "tc.assertEqual(h.data, [97, 61, 65, 49, 51, 53, 62, 5, 38, 33])"
   ]
  },
  {
   "cell_type": "code",
   "execution_count": 66,
   "metadata": {
    "collapsed": false,
    "deletable": false,
    "nbgrader": {
     "checksum": "3d012aa2d3726a0afb61964ef3f6ccd6",
     "grade": true,
     "grade_id": "heap_test_2",
     "locked": true,
     "points": 3,
     "solution": false
    }
   },
   "outputs": [],
   "source": [
    "from unittest import TestCase\n",
    "import random\n",
    "\n",
    "tc = TestCase()\n",
    "h = Heap(lambda x:-x)\n",
    "\n",
    "random.seed(0)\n",
    "for _ in range(10):\n",
    "    h.add(random.randrange(100))\n",
    "\n",
    "tc.assertEqual(h.data, [5, 33, 53, 38, 49, 65, 62, 97, 51, 61])"
   ]
  },
  {
   "cell_type": "code",
   "execution_count": 67,
   "metadata": {
    "collapsed": false,
    "deletable": false,
    "nbgrader": {
     "checksum": "32cd9265a7ff0098f9fd01a89dc5a943",
     "grade": true,
     "grade_id": "heap_test_3",
     "locked": true,
     "points": 3,
     "solution": false
    }
   },
   "outputs": [],
   "source": [
    "from unittest import TestCase\n",
    "import random\n",
    "\n",
    "tc = TestCase()\n",
    "h = Heap(lambda s:len(s))\n",
    "\n",
    "h.add('hello')\n",
    "h.add('hi')\n",
    "h.add('abracadabra')\n",
    "h.add('supercalifragilisticexpialidocious')\n",
    "h.add('0')\n",
    "\n",
    "tc.assertEqual(h.data,\n",
    "              ['supercalifragilisticexpialidocious', 'abracadabra', 'hello', 'hi', '0'])"
   ]
  },
  {
   "cell_type": "code",
   "execution_count": 68,
   "metadata": {
    "collapsed": false,
    "deletable": false,
    "nbgrader": {
     "checksum": "218a5f1c682042e2950d9bcab395fc79",
     "grade": true,
     "grade_id": "heap_test_4",
     "locked": true,
     "points": 3,
     "solution": false
    }
   },
   "outputs": [],
   "source": [
    "from unittest import TestCase\n",
    "import random\n",
    "\n",
    "tc = TestCase()\n",
    "h = Heap()\n",
    "\n",
    "random.seed(0)\n",
    "lst = list(range(-1000, 1000))\n",
    "random.shuffle(lst)\n",
    "\n",
    "for x in lst:\n",
    "    h.add(x)\n",
    "\n",
    "for x in range(999, -1000, -1):\n",
    "    tc.assertEqual(x, h.pop_max())"
   ]
  },
  {
   "cell_type": "code",
   "execution_count": 70,
   "metadata": {
    "collapsed": false,
    "deletable": false,
    "nbgrader": {
     "checksum": "3fba57ecb23bcb100e60364a3f22826a",
     "grade": true,
     "grade_id": "heap_test_5",
     "locked": true,
     "points": 3,
     "solution": false
    }
   },
   "outputs": [],
   "source": [
    "from unittest import TestCase\n",
    "import random\n",
    "\n",
    "tc = TestCase()\n",
    "h = Heap(key=lambda x:abs(x))\n",
    "\n",
    "random.seed(0)\n",
    "lst = list(range(-1000, 1000, 3))\n",
    "random.shuffle(lst)\n",
    "\n",
    "for x in lst:\n",
    "    h.add(x)\n",
    "\n",
    "for x in reversed(sorted(range(-1000, 1000, 3), key=lambda x:abs(x))):\n",
    "    tc.assertEqual(x, h.pop_max())"
   ]
  }
 ],
 "metadata": {
  "anaconda-cloud": {},
  "kernelspec": {
   "display_name": "Python [Root]",
   "language": "python",
   "name": "Python [Root]"
  },
  "language_info": {
   "codemirror_mode": {
    "name": "ipython",
    "version": 3
   },
   "file_extension": ".py",
   "mimetype": "text/x-python",
   "name": "python",
   "nbconvert_exporter": "python",
   "pygments_lexer": "ipython3",
   "version": "3.5.2"
  }
 },
 "nbformat": 4,
 "nbformat_minor": 0
}
